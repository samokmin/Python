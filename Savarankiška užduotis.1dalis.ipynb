{
 "cells": [
  {
   "cell_type": "code",
   "execution_count": 6,
   "metadata": {},
   "outputs": [
    {
     "name": "stdout",
     "output_type": "stream",
     "text": [
      "{'Toyota': 7, 'Ford': 6, 'Chevrolet': 6, 'Honda': 6, 'Jeep': 6, 'Nissan': 6, 'BMW': 1, 'Hyundai': 6, 'Volkswagen': 5, 'Mercedes-Benz': 6, 'Tesla': 5, 'Subaru': 6, 'Audi': 4, 'Kia': 4, 'Mazda': 5, 'Lexus': 5, 'Buick': 4, 'Volvo': 2, 'Acura': 4, 'GMC': 4, 'Infiniti': 2}\n",
      "['Toyota', 'Ford', 'Chevrolet', 'Honda', 'Jeep', 'Nissan', 'Hyundai', 'Volkswagen', 'Mercedes-Benz', 'Tesla', 'Subaru', 'Audi', 'Kia', 'Mazda', 'Lexus', 'Buick', 'Volvo', 'Acura', 'GMC', 'Infiniti']\n"
     ]
    }
   ],
   "source": [
    "# 1 Raskite, kurių gamintojų automobilių yra daugiau nei vienas, ekrane atspausdinkite gamintojų pavadinimus. \n",
    "from csv import DictReader\n",
    "import pandas as pd\n",
    "import datetime\n",
    "\n",
    "def file_opening(name):\n",
    "    with open(name, encoding='utf8') as file: \n",
    "        nuskaityti_duomenys = DictReader(file, delimiter = ',') \n",
    "        autoparkas_data = list(nuskaityti_duomenys) \n",
    "    return autoparkas_data\n",
    "\n",
    "gamintoju_sarasas = {} # naujas zodynas, kuriame raktas yra automobilio gamintojas, o verte - suskaiciuoti ju kiekiai\n",
    "\n",
    "failas = input('Irasykite failo, kurio duomenis nuskaitysite, pavadinima:')\n",
    "\n",
    "autoparkas_data = file_opening(failas)\n",
    "\n",
    "for eilute in autoparkas_data:\n",
    "    gamintojas = eilute['Gamintojas']\n",
    "    if gamintojas in gamintoju_sarasas:\n",
    "        gamintoju_sarasas[gamintojas] += 1\n",
    "    else:\n",
    "        gamintoju_sarasas[gamintojas] = 1\n",
    "\n",
    "print(gamintoju_sarasas) # Gaunamas zodynas, kuriame surasyti visi gamintojai, ir ju pagaminti automobiliai\n",
    "tik_pasikartojantys = [gamintojas for gamintojas, kiekis in gamintoju_sarasas.items() if kiekis > 1] # Atmetami tie gamintojai, kuriu kiekis sarase yra tik 1\n",
    "print(tik_pasikartojantys) # Sarasas su gamintoju vardais, kuriu automobiliu yra daugiau nei 1\n",
    "\n",
    "\n",
    "\n",
    "# Lektores pataisymas: file_opening(failas) # Tokios funkcijos paprastai buna su return, nes kai mes suformuojame sąrašą ir neišsaugome jo \n",
    "# jupyter notebook aplinkoje (jis turi galimybę išsaugoti todėl mes dažnai tos klaidos negauname) būna klaidos, \n",
    "# nes skaitymo funkcija turi grąžinti ką nuskaitė, kad paskui galėtume naudoti skaičiavimuose :)\n",
    "\n",
    "# def file_opening(name):\n",
    "#     with open(name, encoding='utf8') as file:\n",
    "#         nuskaityti_duomenys = DictReader(file, delimiter = ',')\n",
    "#         autoparkas_data = list(nuskaityti_duomenys)\n",
    "#         return autoparkas_data"
   ]
  },
  {
   "cell_type": "code",
   "execution_count": 4,
   "metadata": {},
   "outputs": [
    {
     "name": "stdout",
     "output_type": "stream",
     "text": [
      "{'Tucson': ['2018', 'WER345'], 'Elantra': ['2021', 'POI345'], 'Santa Fe': ['2020', 'GHJ890'], 'Kona': ['2016', 'ZXV567'], 'Palisade': ['2018', 'ZXC890'], 'Venue': ['2019', 'RTY234']}\n"
     ]
    }
   ],
   "source": [
    "# 2. Sudarykite visų pasirinkto gamintojo (pvz.: „Volvo“) automobilių sąrašą, ekrane atspausdinkite automobilio valstybinį numerį, \n",
    "# modelį, bei pagaminimo metus. Jei tokio automobilio sąraše nėra atspausdinkite pranešimą - \"Tokio gamintojo automobilių sąraše nėra\".\n",
    "\n",
    "def konkretus_gamintojas(marke, autoparkas_data, automobiliu_sarasas):\n",
    "    for auto in autoparkas_data:\n",
    "        if auto['Gamintojas'] == marke:\n",
    "            modelis = auto['Modelis']\n",
    "            Pagaminimo_metai = auto['Pagaminimo metai']\n",
    "            Valstybinis_numeris = auto['Valstybinis numeris']\n",
    "            automobiliu_sarasas[modelis] = [Pagaminimo_metai, Valstybinis_numeris]\n",
    "\n",
    "automobiliu_sarasas = {} # Sukurtas zodynas, i kuri bus atrinkti vieno gamintojo automobiliai(raktas - modelis, vertes - numeris ir metai)\n",
    "\n",
    "failas = input('Irasykite failo, kurio duomenis nuskaitysite, pavadinima:')\n",
    "\n",
    "autoparkas_data = file_opening(failas)\n",
    "\n",
    "pasirinkimas = input('Irasykite automobiliu gamintojo varda:').capitalize()\n",
    "konkretus_gamintojas(pasirinkimas, autoparkas_data, automobiliu_sarasas) \n",
    "if automobiliu_sarasas:\n",
    "    print(automobiliu_sarasas)\n",
    "else:\n",
    "    print('Tokio gamintojo automobilių sąraše nėra')\n",
    "\n",
    "#Lektores pataisymas: Šiai funkcijai mums reiktų per parametrus pridėti ankstesniame punkte nuskaitytą sąrašą nes funkcija turi būti universali,\n",
    "#kad veiktų su visais kitais tokiais pat duomenų sąrašais, ir kad nereiktų keisti funkcijos struktūros programiškai. Taip pat rezultatą kur \n",
    "#dedame irgi turi būti nurodyta per parametrus :)\n"
   ]
  },
  {
   "cell_type": "code",
   "execution_count": 5,
   "metadata": {},
   "outputs": [],
   "source": [
    "#  3. Sudarykite sąrašą, senesnių nei 10 metų, į failą „Senienos.csv“ surašykite visus jų duomenis. Jei senienų programa neranda \n",
    "# atspausdinkite pranešimą ekrane - \"Senesnių nei 10 metų automobilių sąraše nėra\".\n",
    "\n",
    "old_cars = {} # Naujas tuscias zodynas, i kuri pridesiu automobilius, senesnius nei 10m.\n",
    "\n",
    "failas = input('Irasykite failo, kurio duomenis nuskaitysite, pavadinima:')\n",
    "\n",
    "autoparkas_data = file_opening(failas)\n",
    "for eilute in autoparkas_data:\n",
    "    eilute['Pagaminimo metai'] = int(eilute['Pagaminimo metai'])\n",
    "\n",
    "i = 1\n",
    "for seniena in autoparkas_data:\n",
    "    if datetime.datetime.now().year - seniena['Pagaminimo metai'] > 10: \n",
    "        pagaminimo_metai = seniena['Pagaminimo metai']\n",
    "        valst_nr = seniena['Valstybinis numeris']\n",
    "        model = seniena['Modelis']\n",
    "        manufacturer = seniena['Gamintojas']\n",
    "        old_cars[i] = [manufacturer, model, valst_nr, pagaminimo_metai]\n",
    "        i += 1\n",
    "if len(old_cars) == 0:\n",
    "    print('Senesnių nei 10 metų automobilių sąraše nėra')\n",
    "else:\n",
    "    df = pd.DataFrame(old_cars)\n",
    "    df.to_csv('Senienos.csv', index=False, encoding='utf8')"
   ]
  }
 ],
 "metadata": {
  "kernelspec": {
   "display_name": "Python 3",
   "language": "python",
   "name": "python3"
  },
  "language_info": {
   "codemirror_mode": {
    "name": "ipython",
    "version": 3
   },
   "file_extension": ".py",
   "mimetype": "text/x-python",
   "name": "python",
   "nbconvert_exporter": "python",
   "pygments_lexer": "ipython3",
   "version": "3.12.4"
  }
 },
 "nbformat": 4,
 "nbformat_minor": 2
}
